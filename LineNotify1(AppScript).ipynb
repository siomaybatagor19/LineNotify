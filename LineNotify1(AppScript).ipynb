{
  "nbformat": 4,
  "nbformat_minor": 0,
  "metadata": {
    "colab": {
      "provenance": [],
      "authorship_tag": "ABX9TyMI30fGR+HVhkLnL3vsrMLw",
      "include_colab_link": true
    },
    "kernelspec": {
      "name": "python3",
      "display_name": "Python 3"
    },
    "language_info": {
      "name": "python"
    }
  },
  "cells": [
    {
      "cell_type": "markdown",
      "metadata": {
        "id": "view-in-github",
        "colab_type": "text"
      },
      "source": [
        "<a href=\"https://colab.research.google.com/github/siomaybatagor19/LineNotify/blob/main/LineNotify1(AppScript).ipynb\" target=\"_parent\"><img src=\"https://colab.research.google.com/assets/colab-badge.svg\" alt=\"Open In Colab\"/></a>"
      ]
    },
    {
      "cell_type": "code",
      "execution_count": null,
      "metadata": {
        "id": "Ya5bpy0CtCbZ"
      },
      "outputs": [],
      "source": [
        "var lineToken = '#LineTokenNeeded';\n",
        "var LineText = '';\n",
        "\n",
        "\n",
        "function main() {\n",
        "  var ss=SpreadsheetApp.getActiveSpreadsheet();\n",
        "  var sheet = ss.getSheets()[0];\n",
        "  var mydate=new Date();\n",
        "  var mym=mydate.getMonth()+1;\n",
        "  var myd=mydate.getDate();\n",
        "  for (var i=0; i<sheet.getLastRow()-1; i++){\n",
        "\n",
        "       var target=sheet.getRange(i+2, 1).getValue();\n",
        "       var ff=new Date(target);\n",
        "       var f12=ff.getMonth()+1;\n",
        "       var f34=ff.getDate();\n",
        "        var target2=sheet.getRange(i+2, 2).getValue();\n",
        "       var ff2=new Date(target2);\n",
        "       var f122=ff2.getMonth()+1;\n",
        "       var f342=ff2.getDate();\n",
        "       if (f12==mym && f34==myd){\n",
        "             LineText=\"Date: \"+f122 + \"/\" + f342 + \"\\nToDo: \" +sheet.getRange(i+2, 3).getValue();\n",
        "             sendToLine(LineText);\n",
        "             sheet.getRange(i+2, 4).setValue('v');\n",
        "         }\n",
        "\n",
        "    }\n",
        "\n",
        " }\n",
        "\n",
        "\n",
        "function sendToLine(LineText){\n",
        "  var token = lineToken;\n",
        "  var URL =\"https://i0.wp.com/spacenews.com/wp-content/uploads/2021/07/hubble-sts125release.jpg?fit=879%2C494&ssl=1.com.jpg\"\n",
        "  var options =\n",
        "   {\n",
        "     \"method\": \"post\",\n",
        "     \"headers\" : {\"Authorization\" : \"Bearer \"+ token},\n",
        "     \"payload\":{\n",
        "        'message':'\\n'+ LineText,\n",
        "         'imageThumbnail': URL,\n",
        "        'imageFullsize': URL\n",
        "     }\n",
        "   };\n",
        "   UrlFetchApp.fetch(\"https://notify-api.line.me/api/notify\", options);\n",
        "}\n",
        "\n",
        "\n",
        "\n"
      ]
    }
  ]
}